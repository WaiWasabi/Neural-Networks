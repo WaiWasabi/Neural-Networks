{
  "nbformat": 4,
  "nbformat_minor": 0,
  "metadata": {
    "colab": {
      "name": "neural network with matrices",
      "provenance": [],
      "authorship_tag": "ABX9TyPRAnBhN+ani8pRrR0wibge",
      "include_colab_link": true
    },
    "kernelspec": {
      "name": "python3",
      "display_name": "Python 3"
    }
  },
  "cells": [
    {
      "cell_type": "markdown",
      "metadata": {
        "id": "view-in-github",
        "colab_type": "text"
      },
      "source": [
        "<a href=\"https://colab.research.google.com/github/WaiWasabi/Neural-Networks/blob/master/neural_network_with_matrices.ipynb\" target=\"_parent\"><img src=\"https://colab.research.google.com/assets/colab-badge.svg\" alt=\"Open In Colab\"/></a>"
      ]
    },
    {
      "cell_type": "code",
      "metadata": {
        "id": "24KdObbkeU4b",
        "colab_type": "code",
        "colab": {}
      },
      "source": [
        "import random\n",
        "import numpy as np\n",
        "\n",
        "def sigmoid(z):\n",
        "  return 1.0/(1.0+np.exp(-z))\n",
        "\n",
        "def sigmoid_prime(z):\n",
        "  return sigmoid(z)*(1-sigmoid(z))\n",
        "\n",
        "def cost_derivative(a, y):\n",
        "  return (a - y)\n",
        "\n",
        "class Network(object):\n",
        "  def __init__(self, sizes):\n",
        "    self.sizes = sizes\n",
        "    self.num_layers = len(sizes)\n",
        "    self.biases = [np.random.randn(x, 1) for x in sizes[1:]]\n",
        "    self.weights = [np.random.randn(x, y) for x, y in zip(sizes[1:], sizes[:-1])]\n",
        "\n",
        "  def feedforward(self, a):\n",
        "    for w, b in zip(self.weights, self.biases):\n",
        "      a = sigmoid(np.dot(w, a) + b)\n",
        "    return a\n",
        "\n",
        "  def backprop(self, train_data, train_label):\n",
        "    nabla_w = [np.zeros(w.shape) for w in self.weights]\n",
        "    nabla_b = [np.zeros(b.shape) for b in self.biases]\n",
        "    activation = train_data\n",
        "    activations = [train_data]\n",
        "    zs = []\n",
        "    for w, b in zip(self.weights, self.biases):\n",
        "      z = np.dot(w, activation) + b\n",
        "      zs.append(z)\n",
        "      activation = sigmoid(z)\n",
        "      activations.append(activation)\n",
        "    delta = cost_derivative(activations[-1], train_label) * sigmoid_prime(zs[-1])\n",
        "    nabla_b[-1] = delta\n",
        "    nabla_w[-1] = np.dot(delta, activations[-2].transpose())\n",
        "\n",
        "    for i in range(2, self.num_layers):\n",
        "      delta = np.dot(self.weights[-i].transpose(), delta) * sigmoid_prime(zs[-i])\n",
        "      nabla_b[-i] = delta\n",
        "      nabla_w[-i] = np.dot(delta, activations[-(i+1)].transpose())\n",
        "    return nabla_w, nabla_b\n",
        "\n",
        "  def update_mini_batch(self, mini_batch, lr):\n",
        "    nabla_w = [np.zeros(w.shape) for w in self.weights]\n",
        "    nabla_b = [np.zeros(b.shape) for b in self.biases]\n",
        "    for train_data, train_label in mini_batch:\n",
        "      delta_nabla_w, delta_nabla_b = self.backprop(train_data, train_label)\n",
        "      nabla_w = [nw + dnw for nw, dnw in zip(nabla_w, delta_nabla_w)]\n",
        "      nabla_b = [nb + dnb for nb, dnb in zip(nabla_b, delta_nabla_b)]\n",
        "    self.weights = [w - (lr/len(mini_batch))*nw for w, nw in zip(self.weights, nabla_w)]\n",
        "    self.biases = [b - (lr/len(mini_batch))*nb for b, nb in zip(self.biases, nabla_b)]\n",
        "\n",
        "  def SGD(self, data, mini_batch_size, epochs, learning_rate):\n",
        "    n = len(data)\n",
        "    for i in range(epochs):\n",
        "      random.shuffle(data)\n",
        "      mini_batches = [data[k:(k+mini_batch_size)] for k in range(0, n, mini_batch_size)]\n",
        "      for mini_batch in mini_batches:\n",
        "        self.update_mini_batch(mini_batch, learning_rate)\n",
        "    "
      ],
      "execution_count": 14,
      "outputs": []
    }
  ]
}