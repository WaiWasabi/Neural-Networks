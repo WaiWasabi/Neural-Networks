{
  "nbformat": 4,
  "nbformat_minor": 0,
  "metadata": {
    "colab": {
      "name": "neural network with matrices",
      "provenance": [],
      "toc_visible": true,
      "authorship_tag": "ABX9TyOeYEsCrn93P9RB/UUxkjOl",
      "include_colab_link": true
    },
    "kernelspec": {
      "name": "python3",
      "display_name": "Python 3"
    },
    "accelerator": "GPU"
  },
  "cells": [
    {
      "cell_type": "markdown",
      "metadata": {
        "id": "view-in-github",
        "colab_type": "text"
      },
      "source": [
        "<a href=\"https://colab.research.google.com/github/WaiWasabi/Neural-Networks/blob/add-matrix-network/neural_network_with_matrices.ipynb\" target=\"_parent\"><img src=\"https://colab.research.google.com/assets/colab-badge.svg\" alt=\"Open In Colab\"/></a>"
      ]
    },
    {
      "cell_type": "markdown",
      "metadata": {
        "id": "vjz1VifJ2wyB",
        "colab_type": "text"
      },
      "source": [
        "# Single-Input Network"
      ]
    },
    {
      "cell_type": "code",
      "metadata": {
        "id": "24KdObbkeU4b",
        "colab_type": "code",
        "colab": {}
      },
      "source": [
        "import random\n",
        "import numpy as np\n",
        "\n",
        "def sigmoid(z):\n",
        "  return 1.0/(1.0+np.exp(-z))\n",
        "\n",
        "def sigmoid_prime(z):\n",
        "  return sigmoid(z)*(1-sigmoid(z))\n",
        "\n",
        "def cost_derivative(a, y):\n",
        "  return (a - y)\n",
        "\n",
        "class Network(object):\n",
        "  def __init__(self, sizes):\n",
        "    self.sizes = sizes\n",
        "    self.num_layers = len(sizes)    \n",
        "    self.weights = [np.random.randn(x, y) for x, y in zip(sizes[1:], sizes[:-1])]\n",
        "    self.biases = [np.random.randn(x, 1) for x in sizes[1:]]\n",
        "\n",
        "\n",
        "  def feedforward(self, a):\n",
        "    for w, b in zip(self.weights, self.biases):\n",
        "      a = sigmoid(np.dot(w, a) + b)\n",
        "    return a\n",
        "\n",
        "  def backprop(self, train_input, train_label):\n",
        "    nabla_w = [np.zeros(w.shape) for w in self.weights]\n",
        "    nabla_b = [np.zeros(b.shape) for b in self.biases]\n",
        "    activation = train_input\n",
        "    activations = [train_input]\n",
        "    zs = []\n",
        "    for w, b in zip(self.weights, self.biases):\n",
        "      z = np.dot(w, activation) + b\n",
        "      zs.append(z)\n",
        "      activation = sigmoid(z)\n",
        "      activations.append(activation)\n",
        "    delta = cost_derivative(activations[-1], train_label) * sigmoid_prime(zs[-1])\n",
        "    nabla_w[-1] = np.dot(delta, activations[-2].transpose())\n",
        "    nabla_b[-1] = delta\n",
        "\n",
        "    for i in range(2, self.num_layers):\n",
        "      delta = np.dot(self.weights[-i + 1].transpose(), delta) * sigmoid_prime(zs[-i])\n",
        "      nabla_b[-i] = delta\n",
        "      nabla_w[-i] = np.dot(delta, activations[-(i+1)].transpose())\n",
        "    return nabla_w, nabla_b\n",
        "\n",
        "  def update_mini_batch(self, mini_batch, lr):\n",
        "    nabla_w = [np.zeros(w.shape) for w in self.weights]\n",
        "    nabla_b = [np.zeros(b.shape) for b in self.biases]\n",
        "    for train_input, train_label in mini_batch:\n",
        "      delta_nabla_w, delta_nabla_b = self.backprop(train_input, train_label)\n",
        "      nabla_w = [nw + dnw for nw, dnw in zip(nabla_w, delta_nabla_w)]\n",
        "      nabla_b = [nb + dnb for nb, dnb in zip(nabla_b, delta_nabla_b)]\n",
        "    self.weights = [w - (lr/len(mini_batch))*nw for w, nw in zip(self.weights, nabla_w)]\n",
        "    self.biases = [b - (lr/len(mini_batch))*nb for b, nb in zip(self.biases, nabla_b)]\n",
        "\n",
        "  def SGD(self, data, mini_batch_size, epochs, learning_rate):\n",
        "    n = len(data)\n",
        "    for i in range(epochs):\n",
        "      random.shuffle(data)\n",
        "      mini_batches = [data[k:(k+mini_batch_size)] for k in range(0, n, mini_batch_size)]\n",
        "      for mini_batch in mini_batches:\n",
        "        self.update_mini_batch(mini_batch, learning_rate)\n",
        "      print(f\"Epoch {i + 1} Complete\")"
      ],
      "execution_count": 11,
      "outputs": []
    },
    {
      "cell_type": "markdown",
      "metadata": {
        "id": "50BQ0X69ItkD",
        "colab_type": "text"
      },
      "source": [
        "# Batch-Input Network"
      ]
    },
    {
      "cell_type": "code",
      "metadata": {
        "id": "xIQE8wjqEycm",
        "colab_type": "code",
        "colab": {}
      },
      "source": [
        "import numpy as np\n",
        "import random\n",
        "\n",
        "def sigmoid(z):\n",
        "  return 1.0/(1.0+np.exp(-z))\n",
        "\n",
        "def sigmoid_prime(z):\n",
        "  return sigmoid(z)*(1.0-sigmoid(z))\n",
        "\n",
        "def cost_derivative(a, y):\n",
        "  return a - y\n",
        "\n",
        "class Network(object):\n",
        "  def __init__(self, sizes):\n",
        "    self.sizes = sizes\n",
        "    self.num_layers = len(sizes)\n",
        "    self.weights = [np.random.randn(x, y) for x, y in zip(sizes[1:], sizes[:-1])]\n",
        "    self.biases = [np.random.randn(x, 1) for x in sizes[1:]]\n",
        "\n",
        "  def feedforward(self, a): # single input feedforward for testing purposes\n",
        "    for w, b in zip(self.weights, self.biases):\n",
        "      a = sigmoid(np.matmul(w, a) + b)\n",
        "    return a\n",
        "\n",
        "  def backprop(self, train_input, train_label):\n",
        "    dCdw = [0]*len(self.weights)\n",
        "    dCdb = [0]*len(self.biases)\n",
        "    activation = train_input\n",
        "    activations = [train_input]\n",
        "    zs = []\n",
        "    b_matrix = [np.array([b for i in range(len(activation))]) for b in self.biases]\n",
        "\n",
        "    for w, b in zip(self.weights, b_matrix): # forward pass\n",
        "      z = np.matmul(w, activation) + b\n",
        "      activation = sigmoid(z)\n",
        "      zs.append(z)\n",
        "      activations.append(activation)\n",
        "    delta = cost_derivative(activations[-1], train_label) * sigmoid_prime(zs[-1])\n",
        "    dCdw[-1] = np.matmul(delta, np.einsum(\"ijk-> ikj\", activations[-2]))\n",
        "    dCdb[-1] = delta\n",
        "    for i in range(2, self.num_layers):\n",
        "      delta = np.matmul(self.weights[-i+1].transpose(), delta) * sigmoid_prime(zs[-i])\n",
        "      dCdw[-i] = np.matmul(delta, np.einsum(\"ijk -> ikj\", activations[-(i+1)]))\n",
        "      dCdb[-i] = delta\n",
        "    sum_dCdw = [np.sum(nw, axis = 0) for nw in dCdw]\n",
        "    sum_dCdb = [np.sum(nb, axis = 0) for nb in dCdb]\n",
        "    return sum_dCdw, sum_dCdb\n",
        "    \n",
        "  def update_mini_batch(self, mini_batch, lr):\n",
        "    train_input, train_label = mini_batch\n",
        "    dCdw, dCdb = self.backprop(train_input, train_label)\n",
        "    self.weights = [w-(lr/len(train_input))*nw for w, nw in zip(self.weights, dCdw)]\n",
        "    self.biases = [b-(lr/len(train_input))*nb for b, nb in zip(self.biases, dCdb)]\n",
        "\n",
        "  def SGD(self, train_data, mini_batch_size, epochs, lr):\n",
        "    train_input, train_label = train_data\n",
        "    mini_batches = [(train_input[i:i+mini_batch_size], train_label[i:i+mini_batch_size]) for i in range(0, len(train_input), mini_batch_size)]\n",
        "    for i in range(epochs):\n",
        "      random.shuffle(mini_batches)\n",
        "      for mini_batch in mini_batches:\n",
        "        train_input, train_label = mini_batch\n",
        "        mini_batch = [(train_input, train_label) for train_input, train_label in zip(train_input, train_label)]\n",
        "        random.shuffle(mini_batch)\n",
        "        mini_batch = zip(*mini_batch)\n",
        "        self.update_mini_batch(mini_batch, lr)\n",
        "      print(f\"Epoch {i + 1} Complete\")\n",
        "\n",
        "  def evaluate(self, test_data):\n",
        "    train_input, train_label = test_data\n",
        "    test_results = [(np.argmax(self.feedforward(x)), y) for x, y in zip(train_input, train_label)]\n",
        "    return sum(int(x == y) for x, y in test_results)\n",
        "\n",
        "def to_one_hot(data, max):\n",
        "  output = []\n",
        "  for index in data:\n",
        "    one_hot = np.zeros((max, 1))\n",
        "    one_hot[index][0] = 1\n",
        "    output.append(one_hot)\n",
        "  return np.array(output)\n"
      ],
      "execution_count": 12,
      "outputs": []
    },
    {
      "cell_type": "markdown",
      "metadata": {
        "id": "k6CfmvbDIggL",
        "colab_type": "text"
      },
      "source": [
        "# Import and Process Data"
      ]
    },
    {
      "cell_type": "code",
      "metadata": {
        "id": "2EbEWYUz1OqC",
        "colab_type": "code",
        "colab": {}
      },
      "source": [
        "import tensorflow as tf\n",
        "from tensorflow.keras.datasets import mnist\n",
        "\n",
        "(x_train, y_train), (x_test, y_test) = mnist.load_data()\n",
        "x_train = np.array([x.reshape(-1, 1)/255 for x in x_train])\n",
        "x_test = np.array([x.reshape(-1, 1)/255 for x in x_test])\n",
        "y_train = to_one_hot(y_train, 10)\n",
        "\n",
        "matrix_train_batch = (x_train, y_train)\n",
        "matrix_test_batch = (x_test, y_test)\n",
        "\n",
        "train_batch = [(x, y) for x, y in zip(x_train, y_train)]\n",
        "test_batch = [(x, y) for x, y in zip(x_test, y_test)]"
      ],
      "execution_count": 8,
      "outputs": []
    },
    {
      "cell_type": "markdown",
      "metadata": {
        "id": "3PxkT01IJOEQ",
        "colab_type": "text"
      },
      "source": [
        "# Network Testing\n"
      ]
    },
    {
      "cell_type": "code",
      "metadata": {
        "id": "5pB6hAkSJVGm",
        "colab_type": "code",
        "colab": {
          "base_uri": "https://localhost:8080/",
          "height": 151
        },
        "outputId": "bb1666d5-dd5d-495d-8b79-610db339939e"
      },
      "source": [
        "x = Network([784, 50, 10])\n",
        "x.SGD(matrix_train_batch, 50, 10, 1.5)"
      ],
      "execution_count": null,
      "outputs": [
        {
          "output_type": "stream",
          "text": [
            "Epoch 1 Complete\n",
            "Epoch 2 Complete\n",
            "Epoch 3 Complete\n",
            "Epoch 4 Complete\n",
            "Epoch 5 Complete\n",
            "Epoch 6 Complete\n",
            "Epoch 7 Complete\n",
            "Epoch 8 Complete\n"
          ],
          "name": "stdout"
        }
      ]
    },
    {
      "cell_type": "code",
      "metadata": {
        "id": "URXtz_56xuSk",
        "colab_type": "code",
        "colab": {
          "base_uri": "https://localhost:8080/",
          "height": 34
        },
        "outputId": "6adbd295-62f3-4b49-f25c-08ceb6070e83"
      },
      "source": [
        "x.evaluate(matrix_test_batch)"
      ],
      "execution_count": 14,
      "outputs": [
        {
          "output_type": "execute_result",
          "data": {
            "text/plain": [
              "8488"
            ]
          },
          "metadata": {
            "tags": []
          },
          "execution_count": 14
        }
      ]
    }
  ]
}